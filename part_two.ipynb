{
 "cells": [
  {
   "cell_type": "markdown",
   "metadata": {},
   "source": [
    "# PART TWO"
   ]
  },
  {
   "cell_type": "markdown",
   "metadata": {},
   "source": [
    "We have 5 essential entity tables for our product, and the entity tables are used to store information on the users’ account, products, Order status, logistics, and payment information. These 5 entities tables are vital to ensure that we have a high functioning business that is profitable. \n",
    "\n",
    "The user entity table is the most important because this is used to store all kinds of data and information about our customers. First, we will ask the user to fill in the information he/she needs to log in, such as their username and password. Since we are an online shopping platform, we also allow users to provide additional information to further verify their identity, such as their phone number and address. We will store the username, password and address in string type and store the phone number in Integer type in the data table.Of course, our system will also give each user's account a unique User_ID which is also the primary key of our entire user data table. Our primary key, User_ID, could also be a foreign key in other tables for better data transmission and verification.\n",
    "\n",
    "For an online shopping company, selling products is key to staying in business. Therefore, we need a reliable database to store information about goods being sold on our site. We also define a unique number, Product_ID, for each kind of item we are selling on our site. The Product_ID will also be the primary key for the product data table and this will be saved in string type. For systems, it's perfect to use a unique digital code to mark goods, but this doesn’t work for customers who are going to buy items online. So, in this data sheet, we still need to classify and describe the goods so that customers will have a better understanding of the different products. We also designed the table to store the product’s name, price, description and category in string type and the remaining stock in Integer type.\n",
    "Our online shopping website relies on users browsing through our products and placing orders. This means that it’s necessary to have an order table too. Since each order is unique, the Order_ID will be the primary key which is stored in integer type. We need to record the date that an order was placed in addition to timestamping an order. This could also be used as a foreign key to the payment table for better confirmation and verification. In addition, we will also store the order total ($) in the table using bigdecimal type because the total of the order will most likely include cents. Furthermore, the transportation and the status of the order will be recorded in string type within our table.\n",
    "\n",
    "When people buy products online, they expect to receive their items as soon as possible which makes consumers very aware of logistics. We needed to include a data table to store logistic information, and this information must be real-time and dynamic in order to ensure that a user can track his/her product. Having order transportation in our database is necessary for increased efficiency. We can use the primary key from the User table, User_ID, as the foreign key and use the Order_ID and Order_transportation from the order table. Once we get the data from the other tables, we will be able to correctly calculate the exact shipping status of an order. The order logistics will be stored in string type as well. \n",
    "\n",
    "Finally, payment by the consumer will be necessary for each order. Users will have the opportunity to pay using a debit card, such as Visa or through a PayPal account. The payment table will also incorporate real-time and dynamic data, for example, in order to ensure a secure checkout, we will need to verify private consumer information. In this case, the Order_ID and Order_placed_date from the Order table is needed, as well as the User_ID to ensure the payment has been placed by the correct account. When these three foreign keys have been input, we can confirm the payment with the user. Since the payment only has two different statuses, success or failure, we could use the number 0 to stand for failure and the number 1 to stand for a successful transaction. \n"
   ]
  },
  {
   "cell_type": "code",
   "execution_count": null,
   "metadata": {},
   "outputs": [],
   "source": []
  }
 ],
 "metadata": {
  "kernelspec": {
   "display_name": "Python 3",
   "language": "python",
   "name": "python3"
  },
  "language_info": {
   "codemirror_mode": {
    "name": "ipython",
    "version": 3
   },
   "file_extension": ".py",
   "mimetype": "text/x-python",
   "name": "python",
   "nbconvert_exporter": "python",
   "pygments_lexer": "ipython3",
   "version": "3.7.3"
  }
 },
 "nbformat": 4,
 "nbformat_minor": 2
}
