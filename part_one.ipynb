{
 "cells": [
  {
   "cell_type": "markdown",
   "metadata": {},
   "source": [
    "## PART ONE"
   ]
  },
  {
   "cell_type": "markdown",
   "metadata": {},
   "source": [
    "Our first idea is to design an online shopping website database similar to Amazon. We plan to use 5 different tables within our database, such as user account, products offered, order information, order logistics, and payment. The order information and payment tables will utilize “end-user” real-time data. A typical business interaction would consist of a consumer browsing through our site in order to buy a specific product that currently fits his/her needs. Before checkout, the customer would have to create an account and input their personal information, such as name, address, and payment information. After a customer adds a product to their cart and checks out, they will receive an order confirmation with product information and order tracking. Our user account table will consist of the User’s name, ID (primary key; foreigner key for payment and logistics table), password, phone number, and address. Within the product’s table, the data stored will be the product’s name, category, price, description and remaining stock. The data stored in the order table will be an order confirmation number, Order total ($), date and time the order was placed, transportation type (ground / air), and order status. Additionally, shipping is also a very essential part of an online shopping experience, so we need a logistic table to record the shipping status which is real-time and dynamic. The payment table will include, payment type (Visa, PayPal, Other), the order ID, time the payment was placed, and more detailed information to make sure the whole payment processing is secure and correct. The payment table is also real-time and dynamic for better confirmation and verification. The overall goal of creating this database is to determine what products customers buy and how much they tend to spend on average every checkout.\n",
    " \n",
    "Our second idea is to design a music streaming app similar to Spotify. Our database will consist of 5 different tables, user account, library (songs), playlists, followers / following and lyrics. Followers / following will incorporate “end-user” real-time data. A typical business interaction would include a consumer downloading the app, creating an account, purchasing a premium plan (if he/she desires) and then creating or following different playlists to keep in their library. The user account table will consist of the consumer’s user ID, password, and whether or not they subscribe to premium. The library will store every song that the user downloads and keep them organized by genre and artist. The playlist table will keep songs organized and categorized based off of consumer desires and mood. We will use the user account as the foregin key from the user data table and the playlist information saved in this data table. For each song in the music streaming app, the lyrics have to be stored in a data table to enable users to follow along with every song. In order to ensure that the correct lyrics are provided to each song, we need the song’s name or ID to make the correct match which also makes this dynamic. Our overall goal of this idea is to better understand what types of songs consumers listen to and if their preferences change throughout the day. \n",
    "\n",
    "\n",
    "Our third idea is to create a grocery store database that consists of food type, price, location, employees, and membership loyalty program. We didn’t have a specific grocery store in mind when creating this database, however, it is similar to how all grocery stores function. A typical interaction would consist of a consumer shopping around the store, deciding what food items he/she needs, and then checking out at the cash register. The food table will encompass the type of food being sold at our store, such as meat, fish, fruits/vegetables, ice cream, snacks, etc. Our price table will have the prices for our products, for example, a pint of ice cream may cost around four dollars. The location the products our located in the store can either be in a specific aisle, fridge, or freezer. The employee table will have all the employees that work for the store, the times that they are on shift, and the specific register they are supposed to manage that day. Finally, what really makes our idea unique is that we will incorporate a loyalty program card that acts as a credit/debit card. When users use this card to purchase their groceries, they will get 10% off their entire purchase. The overall goal of this database is to keep track of how often consumers return to buy groceries, what they buy, and how much they spend. This can be tracked through our loyalty cards and this will give us a better understanding of how our consumers act. \n"
   ]
  },
  {
   "cell_type": "code",
   "execution_count": null,
   "metadata": {},
   "outputs": [],
   "source": []
  }
 ],
 "metadata": {
  "kernelspec": {
   "display_name": "Python 3",
   "language": "python",
   "name": "python3"
  },
  "language_info": {
   "codemirror_mode": {
    "name": "ipython",
    "version": 3
   },
   "file_extension": ".py",
   "mimetype": "text/x-python",
   "name": "python",
   "nbconvert_exporter": "python",
   "pygments_lexer": "ipython3",
   "version": "3.7.3"
  }
 },
 "nbformat": 4,
 "nbformat_minor": 2
}
